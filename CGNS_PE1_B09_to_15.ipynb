{
  "nbformat": 4,
  "nbformat_minor": 0,
  "metadata": {
    "colab": {
      "provenance": [],
      "include_colab_link": true
    },
    "kernelspec": {
      "name": "python3",
      "display_name": "Python 3"
    },
    "language_info": {
      "name": "python"
    }
  },
  "cells": [
    {
      "cell_type": "markdown",
      "metadata": {
        "id": "view-in-github",
        "colab_type": "text"
      },
      "source": [
        "<a href=\"https://colab.research.google.com/github/saikrishna21200/AIML/blob/main/CGNS_PE1_B09_to_15.ipynb\" target=\"_parent\"><img src=\"https://colab.research.google.com/assets/colab-badge.svg\" alt=\"Open In Colab\"/></a>"
      ]
    },
    {
      "cell_type": "code",
      "execution_count": 1,
      "metadata": {
        "id": "czA6TMqv__Ew",
        "colab": {
          "base_uri": "https://localhost:8080/"
        },
        "outputId": "ef098ddf-129a-484b-db1f-ebd1193c502c"
      },
      "outputs": [
        {
          "name": "stdout",
          "output_type": "stream",
          "text": [
            "Please enter a string: harry   potterr\n"
          ]
        }
      ],
      "source": [
        "user_input = input(\"Please enter a string: \")"
      ]
    },
    {
      "cell_type": "code",
      "source": [
        "for char in user_input:\n",
        "    print(f\"The ASCII value of '{char}' is {ord(char)}\")"
      ],
      "metadata": {
        "colab": {
          "base_uri": "https://localhost:8080/"
        },
        "id": "QPPCBMOVEoTj",
        "outputId": "6bb4528e-a182-4e0c-c38f-59ddc48e958e"
      },
      "execution_count": 2,
      "outputs": [
        {
          "output_type": "stream",
          "name": "stdout",
          "text": [
            "The ASCII value of 'h' is 104\n",
            "The ASCII value of 'a' is 97\n",
            "The ASCII value of 'r' is 114\n",
            "The ASCII value of 'r' is 114\n",
            "The ASCII value of 'y' is 121\n",
            "The ASCII value of ' ' is 32\n",
            "The ASCII value of ' ' is 32\n",
            "The ASCII value of ' ' is 32\n",
            "The ASCII value of 'p' is 112\n",
            "The ASCII value of 'o' is 111\n",
            "The ASCII value of 't' is 116\n",
            "The ASCII value of 't' is 116\n",
            "The ASCII value of 'e' is 101\n",
            "The ASCII value of 'r' is 114\n",
            "The ASCII value of 'r' is 114\n"
          ]
        }
      ]
    },
    {
      "cell_type": "markdown",
      "source": [],
      "metadata": {
        "id": "q_wl1GqJF-Sp"
      }
    },
    {
      "cell_type": "code",
      "source": [
        "\n",
        "def encrypt(plaintext, shift):\n",
        "    ciphertext = \"\"\n",
        "    for char in plaintext:\n",
        "        if char.isupper():\n",
        "            ciphertext += chr((ord(char) + shift - 65) % 26 + 65)\n",
        "        elif char.islower():\n",
        "            ciphertext += chr((ord(char) + shift - 97) % 26 + 97)\n",
        "        else:\n",
        "            ciphertext += char\n",
        "    return ciphertext\n",
        "def decrypt(ciphertext, shift):\n",
        "    plaintext = \"\"\n",
        "    for char in ciphertext:\n",
        "        if char.isupper():\n",
        "            plaintext += chr((ord(char) - shift - 65) % 26 + 65)\n",
        "        elif char.islower():\n",
        "            plaintext += chr((ord(char) - shift - 97) % 26 + 97)\n",
        "        else:\n",
        "            plaintext += char\n",
        "    return plaintext\n",
        "if __name__ == \"__main__\":\n",
        "    text = input(\"Enter the text to encrypt: \")\n",
        "    shift = int(input(\"Enter the shift value (integer): \"))\n",
        "    encrypted_text = encrypt(text, shift)\n",
        "    print(f\"Encrypted Text: {encrypted_text}\")\n",
        "    decrypted_text = decrypt(encrypted_text, shift)\n",
        "    print(f\"Decrypted Text: {decrypted_text}\")"
      ],
      "metadata": {
        "colab": {
          "base_uri": "https://localhost:8080/"
        },
        "id": "M0D3KA9WGB3K",
        "outputId": "ff7219f1-2dad-4d26-eac5-ff6bda1b7211"
      },
      "execution_count": 3,
      "outputs": [
        {
          "output_type": "stream",
          "name": "stdout",
          "text": [
            "Enter the text to encrypt: harrypotter\n",
            "Enter the shift value (integer): 4\n",
            "Encrypted Text: levvctsxxiv\n",
            "Decrypted Text: harrypotter\n"
          ]
        }
      ]
    }
  ]
}