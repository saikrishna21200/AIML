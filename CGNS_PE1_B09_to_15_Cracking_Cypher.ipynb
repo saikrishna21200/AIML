{
  "nbformat": 4,
  "nbformat_minor": 0,
  "metadata": {
    "colab": {
      "provenance": [],
      "include_colab_link": true
    },
    "kernelspec": {
      "name": "python3",
      "display_name": "Python 3"
    },
    "language_info": {
      "name": "python"
    }
  },
  "cells": [
    {
      "cell_type": "markdown",
      "metadata": {
        "id": "view-in-github",
        "colab_type": "text"
      },
      "source": [
        "<a href=\"https://colab.research.google.com/github/saikrishna21200/AIML/blob/main/CGNS_PE1_B09_to_15_Cracking_Cypher.ipynb\" target=\"_parent\"><img src=\"https://colab.research.google.com/assets/colab-badge.svg\" alt=\"Open In Colab\"/></a>"
      ]
    },
    {
      "cell_type": "code",
      "execution_count": 1,
      "metadata": {
        "id": "czA6TMqv__Ew",
        "colab": {
          "base_uri": "https://localhost:8080/"
        },
        "outputId": "ef098ddf-129a-484b-db1f-ebd1193c502c"
      },
      "outputs": [
        {
          "name": "stdout",
          "output_type": "stream",
          "text": [
            "Please enter a string: harry   potterr\n"
          ]
        }
      ],
      "source": [
        "user_input = input(\"Please enter a string: \")"
      ]
    },
    {
      "cell_type": "code",
      "source": [
        "for char in user_input:\n",
        "    print(f\"The ASCII value of '{char}' is {ord(char)}\")"
      ],
      "metadata": {
        "colab": {
          "base_uri": "https://localhost:8080/"
        },
        "id": "QPPCBMOVEoTj",
        "outputId": "6bb4528e-a182-4e0c-c38f-59ddc48e958e"
      },
      "execution_count": 2,
      "outputs": [
        {
          "output_type": "stream",
          "name": "stdout",
          "text": [
            "The ASCII value of 'h' is 104\n",
            "The ASCII value of 'a' is 97\n",
            "The ASCII value of 'r' is 114\n",
            "The ASCII value of 'r' is 114\n",
            "The ASCII value of 'y' is 121\n",
            "The ASCII value of ' ' is 32\n",
            "The ASCII value of ' ' is 32\n",
            "The ASCII value of ' ' is 32\n",
            "The ASCII value of 'p' is 112\n",
            "The ASCII value of 'o' is 111\n",
            "The ASCII value of 't' is 116\n",
            "The ASCII value of 't' is 116\n",
            "The ASCII value of 'e' is 101\n",
            "The ASCII value of 'r' is 114\n",
            "The ASCII value of 'r' is 114\n"
          ]
        }
      ]
    },
    {
      "cell_type": "markdown",
      "source": [],
      "metadata": {
        "id": "q_wl1GqJF-Sp"
      }
    },
    {
      "cell_type": "code",
      "source": [
        "\n",
        "def encrypt(plaintext, shift):\n",
        "    ciphertext = \"\"\n",
        "    for char in plaintext:\n",
        "        if char.isupper():\n",
        "            ciphertext += chr((ord(char) + shift - 65) % 26 + 65)\n",
        "        elif char.islower():\n",
        "            ciphertext += chr((ord(char) + shift - 97) % 26 + 97)\n",
        "        else:\n",
        "            ciphertext += char\n",
        "    return ciphertext\n",
        "def decrypt(ciphertext, shift):\n",
        "    plaintext = \"\"\n",
        "    for char in ciphertext:\n",
        "        if char.isupper():\n",
        "            plaintext += chr((ord(char) - shift - 65) % 26 + 65)\n",
        "        elif char.islower():\n",
        "            plaintext += chr((ord(char) - shift - 97) % 26 + 97)\n",
        "        else:\n",
        "            plaintext += char\n",
        "    return plaintext\n",
        "if __name__ == \"__main__\":\n",
        "    text = input(\"Enter the text to encrypt: \")\n",
        "    shift = int(input(\"Enter the shift value (integer): \"))\n",
        "    encrypted_text = encrypt(text, shift)\n",
        "    print(f\"Encrypted Text: {encrypted_text}\")\n",
        "    decrypted_text = decrypt(encrypted_text, shift)\n",
        "    print(f\"Decrypted Text: {decrypted_text}\")"
      ],
      "metadata": {
        "colab": {
          "base_uri": "https://localhost:8080/"
        },
        "id": "M0D3KA9WGB3K",
        "outputId": "ff7219f1-2dad-4d26-eac5-ff6bda1b7211"
      },
      "execution_count": 3,
      "outputs": [
        {
          "output_type": "stream",
          "name": "stdout",
          "text": [
            "Enter the text to encrypt: harrypotter\n",
            "Enter the shift value (integer): 4\n",
            "Encrypted Text: levvctsxxiv\n",
            "Decrypted Text: harrypotter\n"
          ]
        }
      ]
    },
    {
      "cell_type": "code",
      "source": [
        "import string\n",
        "from collections import Counter\n",
        "\n",
        "def caesar_encrypt(plaintext, key):\n",
        "    result = []\n",
        "    for char in plaintext:\n",
        "        if char.isalpha():\n",
        "            shift = key if char.islower() else key\n",
        "            base = ord('a') if char.islower() else ord('A')\n",
        "            result.append(chr((ord(char) - base + shift) % 26 + base))\n",
        "        else:\n",
        "            result.append(char)\n",
        "    return ''.join(result)\n",
        "\n",
        "def caesar_decrypt(ciphertext, key):\n",
        "    return caesar_encrypt(ciphertext, -key)\n",
        "\n",
        "def crack_caesar_cipher(ciphertext):\n",
        "    # English letter frequencies (approximate)\n",
        "    english_freq = 'etaoinshrdlcumwfgypbvkjxqz'\n",
        "\n",
        "    # Count the frequency of letters in the ciphertext\n",
        "    letter_counts = Counter(filter(str.isalpha, ciphertext.lower()))\n",
        "    most_common = letter_counts.most_common(1)[0][0]  # Most frequent letter in ciphertext\n",
        "\n",
        "    # Guess key assuming 'e' is the most common letter in plaintext\n",
        "    key_guess = (ord(most_common) - ord('e')) % 26\n",
        "    guessed_plaintext = caesar_decrypt(ciphertext, key_guess)\n",
        "\n",
        "    # Optionally try all keys for verification\n",
        "    all_decryptions = [(key, caesar_decrypt(ciphertext, key)) for key in range(26)]\n",
        "\n",
        "    return guessed_plaintext, key_guess, all_decryptions\n",
        "\n",
        "def main():\n",
        "    print(\"### Caesar Cipher Tool ###\")\n",
        "\n",
        "    while True:\n",
        "        print(\"\\nSelect an option:\")\n",
        "        print(\"1. Encrypt a message\")\n",
        "        print(\"2. Decrypt a message\")\n",
        "        print(\"3. Crack a cipher\")\n",
        "        print(\"4. Exit\")\n",
        "\n",
        "        choice = input(\"Enter your choice (1/2/3/4): \").strip()\n",
        "\n",
        "        if choice == \"1\":\n",
        "            plaintext = input(\"\\nEnter the plaintext message: \").strip()\n",
        "            key = int(input(\"Enter the encryption key (0-25): \").strip())\n",
        "            ciphertext = caesar_encrypt(plaintext, key)\n",
        "            print(f\"Encrypted Message: {ciphertext}\")\n",
        "\n",
        "        elif choice == \"2\":\n",
        "            ciphertext = input(\"\\nEnter the ciphertext message: \").strip()\n",
        "            key = int(input(\"Enter the decryption key (0-25): \").strip())\n",
        "            plaintext = caesar_decrypt(ciphertext, key)\n",
        "            print(f\"Decrypted Message: {plaintext}\")\n",
        "\n",
        "        elif choice == \"3\":\n",
        "            ciphertext = input(\"\\nEnter the ciphertext message to crack: \").strip()\n",
        "            guessed_plaintext, guessed_key, all_attempts = crack_caesar_cipher(ciphertext)\n",
        "            print(f\"Cracked Message: {guessed_plaintext} (Guessed Key: {guessed_key})\")\n",
        "            print(\"\\nAll Possible Decryptions:\")\n",
        "            for k, attempt in all_attempts:\n",
        "                print(f\"Key {k}: {attempt}\")\n",
        "\n",
        "        elif choice == \"4\":\n",
        "            print(\"\\nExiting. Goodbye!\")\n",
        "            break\n",
        "\n",
        "        else:\n",
        "            print(\"Invalid choice. Please select a valid option.\")\n",
        "\n",
        "if __name__ == \"__main__\":\n",
        "    main()\n"
      ],
      "metadata": {
        "id": "Rcbwij27Ursj",
        "outputId": "6e542954-d1f8-4661-a2c9-a9ba5cf4004a",
        "colab": {
          "base_uri": "https://localhost:8080/"
        }
      },
      "execution_count": null,
      "outputs": [
        {
          "output_type": "stream",
          "name": "stdout",
          "text": [
            "### Caesar Cipher Tool ###\n",
            "\n",
            "Select an option:\n",
            "1. Encrypt a message\n",
            "2. Decrypt a message\n",
            "3. Crack a cipher\n",
            "4. Exit\n",
            "Enter your choice (1/2/3/4): 3\n",
            "\n",
            "Enter the ciphertext message to crack: levvctsxxiv\n",
            "Cracked Message: uneelcbggre (Guessed Key: 17)\n",
            "\n",
            "All Possible Decryptions:\n",
            "Key 0: levvctsxxiv\n",
            "Key 1: kduubsrwwhu\n",
            "Key 2: jcttarqvvgt\n",
            "Key 3: ibsszqpuufs\n",
            "Key 4: harrypotter\n",
            "Key 5: gzqqxonssdq\n",
            "Key 6: fyppwnmrrcp\n",
            "Key 7: exoovmlqqbo\n",
            "Key 8: dwnnulkppan\n",
            "Key 9: cvmmtkjoozm\n",
            "Key 10: bullsjinnyl\n",
            "Key 11: atkkrihmmxk\n",
            "Key 12: zsjjqhgllwj\n",
            "Key 13: yriipgfkkvi\n",
            "Key 14: xqhhofejjuh\n",
            "Key 15: wpggnediitg\n",
            "Key 16: voffmdchhsf\n",
            "Key 17: uneelcbggre\n",
            "Key 18: tmddkbaffqd\n",
            "Key 19: slccjazeepc\n",
            "Key 20: rkbbizyddob\n",
            "Key 21: qjaahyxccna\n",
            "Key 22: pizzgxwbbmz\n",
            "Key 23: ohyyfwvaaly\n",
            "Key 24: ngxxevuzzkx\n",
            "Key 25: mfwwdutyyjw\n",
            "\n",
            "Select an option:\n",
            "1. Encrypt a message\n",
            "2. Decrypt a message\n",
            "3. Crack a cipher\n",
            "4. Exit\n"
          ]
        }
      ]
    }
  ]
}